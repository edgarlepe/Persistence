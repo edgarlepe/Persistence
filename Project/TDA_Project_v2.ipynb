{
 "cells": [
  {
   "cell_type": "markdown",
   "metadata": {
    "pycharm": {
     "name": "#%% md\n"
    }
   },
   "source": [
    "TODO: Overview of what we are doing\n",
    "\n",
    "---\n",
    "\n",
    "First we read our data from our csv file and set the `subject`, `sessionIndex`,\n",
    "and `rep` columns as our index columns to facilitate our access of the data we\n",
    "want (see documentation for\n",
    "[pandas.DataFrame.loc](https://pandas.pydata.org/pandas-docs/stable/reference/api/pandas.DataFrame.loc.html)\n",
    "). `pd.read_csv` sets the type of the subject column as `object`, so we\n",
    "explicitly declare it as `string`.\n"
   ]
  },
  {
   "cell_type": "code",
   "execution_count": 2,
   "metadata": {
    "pycharm": {
     "name": "#%%\n"
    }
   },
   "outputs": [
    {
     "data": {
      "text/html": [
       "<div>\n",
       "<style scoped>\n",
       "    .dataframe tbody tr th:only-of-type {\n",
       "        vertical-align: middle;\n",
       "    }\n",
       "\n",
       "    .dataframe tbody tr th {\n",
       "        vertical-align: top;\n",
       "    }\n",
       "\n",
       "    .dataframe thead th {\n",
       "        text-align: right;\n",
       "    }\n",
       "</style>\n",
       "<table border=\"1\" class=\"dataframe\">\n",
       "  <thead>\n",
       "    <tr style=\"text-align: right;\">\n",
       "      <th></th>\n",
       "      <th></th>\n",
       "      <th></th>\n",
       "      <th>H.period</th>\n",
       "      <th>DD.period.t</th>\n",
       "      <th>UD.period.t</th>\n",
       "      <th>H.t</th>\n",
       "      <th>DD.t.i</th>\n",
       "      <th>UD.t.i</th>\n",
       "      <th>H.i</th>\n",
       "      <th>DD.i.e</th>\n",
       "      <th>UD.i.e</th>\n",
       "      <th>H.e</th>\n",
       "      <th>...</th>\n",
       "      <th>H.a</th>\n",
       "      <th>DD.a.n</th>\n",
       "      <th>UD.a.n</th>\n",
       "      <th>H.n</th>\n",
       "      <th>DD.n.l</th>\n",
       "      <th>UD.n.l</th>\n",
       "      <th>H.l</th>\n",
       "      <th>DD.l.Return</th>\n",
       "      <th>UD.l.Return</th>\n",
       "      <th>H.Return</th>\n",
       "    </tr>\n",
       "    <tr>\n",
       "      <th>subject</th>\n",
       "      <th>sessionIndex</th>\n",
       "      <th>rep</th>\n",
       "      <th></th>\n",
       "      <th></th>\n",
       "      <th></th>\n",
       "      <th></th>\n",
       "      <th></th>\n",
       "      <th></th>\n",
       "      <th></th>\n",
       "      <th></th>\n",
       "      <th></th>\n",
       "      <th></th>\n",
       "      <th></th>\n",
       "      <th></th>\n",
       "      <th></th>\n",
       "      <th></th>\n",
       "      <th></th>\n",
       "      <th></th>\n",
       "      <th></th>\n",
       "      <th></th>\n",
       "      <th></th>\n",
       "      <th></th>\n",
       "      <th></th>\n",
       "    </tr>\n",
       "  </thead>\n",
       "  <tbody>\n",
       "    <tr>\n",
       "      <th rowspan=\"5\" valign=\"top\">s002</th>\n",
       "      <th rowspan=\"5\" valign=\"top\">1</th>\n",
       "      <th>1</th>\n",
       "      <td>0.1491</td>\n",
       "      <td>0.3979</td>\n",
       "      <td>0.2488</td>\n",
       "      <td>0.1069</td>\n",
       "      <td>0.1674</td>\n",
       "      <td>0.0605</td>\n",
       "      <td>0.1169</td>\n",
       "      <td>0.2212</td>\n",
       "      <td>0.1043</td>\n",
       "      <td>0.1417</td>\n",
       "      <td>...</td>\n",
       "      <td>0.1349</td>\n",
       "      <td>0.1484</td>\n",
       "      <td>0.0135</td>\n",
       "      <td>0.0932</td>\n",
       "      <td>0.3515</td>\n",
       "      <td>0.2583</td>\n",
       "      <td>0.1338</td>\n",
       "      <td>0.3509</td>\n",
       "      <td>0.2171</td>\n",
       "      <td>0.0742</td>\n",
       "    </tr>\n",
       "    <tr>\n",
       "      <th>2</th>\n",
       "      <td>0.1111</td>\n",
       "      <td>0.3451</td>\n",
       "      <td>0.2340</td>\n",
       "      <td>0.0694</td>\n",
       "      <td>0.1283</td>\n",
       "      <td>0.0589</td>\n",
       "      <td>0.0908</td>\n",
       "      <td>0.1357</td>\n",
       "      <td>0.0449</td>\n",
       "      <td>0.0829</td>\n",
       "      <td>...</td>\n",
       "      <td>0.1412</td>\n",
       "      <td>0.2558</td>\n",
       "      <td>0.1146</td>\n",
       "      <td>0.1146</td>\n",
       "      <td>0.2642</td>\n",
       "      <td>0.1496</td>\n",
       "      <td>0.0839</td>\n",
       "      <td>0.2756</td>\n",
       "      <td>0.1917</td>\n",
       "      <td>0.0747</td>\n",
       "    </tr>\n",
       "    <tr>\n",
       "      <th>3</th>\n",
       "      <td>0.1328</td>\n",
       "      <td>0.2072</td>\n",
       "      <td>0.0744</td>\n",
       "      <td>0.0731</td>\n",
       "      <td>0.1291</td>\n",
       "      <td>0.0560</td>\n",
       "      <td>0.0821</td>\n",
       "      <td>0.1542</td>\n",
       "      <td>0.0721</td>\n",
       "      <td>0.0808</td>\n",
       "      <td>...</td>\n",
       "      <td>0.1621</td>\n",
       "      <td>0.2332</td>\n",
       "      <td>0.0711</td>\n",
       "      <td>0.1172</td>\n",
       "      <td>0.2705</td>\n",
       "      <td>0.1533</td>\n",
       "      <td>0.1085</td>\n",
       "      <td>0.2847</td>\n",
       "      <td>0.1762</td>\n",
       "      <td>0.0945</td>\n",
       "    </tr>\n",
       "    <tr>\n",
       "      <th>4</th>\n",
       "      <td>0.1291</td>\n",
       "      <td>0.2515</td>\n",
       "      <td>0.1224</td>\n",
       "      <td>0.1059</td>\n",
       "      <td>0.2495</td>\n",
       "      <td>0.1436</td>\n",
       "      <td>0.1040</td>\n",
       "      <td>0.2038</td>\n",
       "      <td>0.0998</td>\n",
       "      <td>0.0900</td>\n",
       "      <td>...</td>\n",
       "      <td>0.1457</td>\n",
       "      <td>0.1629</td>\n",
       "      <td>0.0172</td>\n",
       "      <td>0.0866</td>\n",
       "      <td>0.2341</td>\n",
       "      <td>0.1475</td>\n",
       "      <td>0.0845</td>\n",
       "      <td>0.3232</td>\n",
       "      <td>0.2387</td>\n",
       "      <td>0.0813</td>\n",
       "    </tr>\n",
       "    <tr>\n",
       "      <th>5</th>\n",
       "      <td>0.1249</td>\n",
       "      <td>0.2317</td>\n",
       "      <td>0.1068</td>\n",
       "      <td>0.0895</td>\n",
       "      <td>0.1676</td>\n",
       "      <td>0.0781</td>\n",
       "      <td>0.0903</td>\n",
       "      <td>0.1589</td>\n",
       "      <td>0.0686</td>\n",
       "      <td>0.0805</td>\n",
       "      <td>...</td>\n",
       "      <td>0.1312</td>\n",
       "      <td>0.1582</td>\n",
       "      <td>0.0270</td>\n",
       "      <td>0.0884</td>\n",
       "      <td>0.2517</td>\n",
       "      <td>0.1633</td>\n",
       "      <td>0.0903</td>\n",
       "      <td>0.2517</td>\n",
       "      <td>0.1614</td>\n",
       "      <td>0.0818</td>\n",
       "    </tr>\n",
       "    <tr>\n",
       "      <th>...</th>\n",
       "      <th>...</th>\n",
       "      <th>...</th>\n",
       "      <td>...</td>\n",
       "      <td>...</td>\n",
       "      <td>...</td>\n",
       "      <td>...</td>\n",
       "      <td>...</td>\n",
       "      <td>...</td>\n",
       "      <td>...</td>\n",
       "      <td>...</td>\n",
       "      <td>...</td>\n",
       "      <td>...</td>\n",
       "      <td>...</td>\n",
       "      <td>...</td>\n",
       "      <td>...</td>\n",
       "      <td>...</td>\n",
       "      <td>...</td>\n",
       "      <td>...</td>\n",
       "      <td>...</td>\n",
       "      <td>...</td>\n",
       "      <td>...</td>\n",
       "      <td>...</td>\n",
       "      <td>...</td>\n",
       "    </tr>\n",
       "    <tr>\n",
       "      <th rowspan=\"5\" valign=\"top\">s057</th>\n",
       "      <th rowspan=\"5\" valign=\"top\">8</th>\n",
       "      <th>46</th>\n",
       "      <td>0.0884</td>\n",
       "      <td>0.0685</td>\n",
       "      <td>-0.0199</td>\n",
       "      <td>0.1095</td>\n",
       "      <td>0.1290</td>\n",
       "      <td>0.0195</td>\n",
       "      <td>0.0945</td>\n",
       "      <td>0.0757</td>\n",
       "      <td>-0.0188</td>\n",
       "      <td>0.1328</td>\n",
       "      <td>...</td>\n",
       "      <td>0.1219</td>\n",
       "      <td>0.1383</td>\n",
       "      <td>0.0164</td>\n",
       "      <td>0.0820</td>\n",
       "      <td>0.1329</td>\n",
       "      <td>0.0509</td>\n",
       "      <td>0.1005</td>\n",
       "      <td>0.2054</td>\n",
       "      <td>0.1049</td>\n",
       "      <td>0.1047</td>\n",
       "    </tr>\n",
       "    <tr>\n",
       "      <th>47</th>\n",
       "      <td>0.0655</td>\n",
       "      <td>0.0630</td>\n",
       "      <td>-0.0025</td>\n",
       "      <td>0.0910</td>\n",
       "      <td>0.1148</td>\n",
       "      <td>0.0238</td>\n",
       "      <td>0.0916</td>\n",
       "      <td>0.0636</td>\n",
       "      <td>-0.0280</td>\n",
       "      <td>0.1256</td>\n",
       "      <td>...</td>\n",
       "      <td>0.1008</td>\n",
       "      <td>0.0512</td>\n",
       "      <td>-0.0496</td>\n",
       "      <td>0.1037</td>\n",
       "      <td>0.0868</td>\n",
       "      <td>-0.0169</td>\n",
       "      <td>0.1445</td>\n",
       "      <td>0.2206</td>\n",
       "      <td>0.0761</td>\n",
       "      <td>0.1198</td>\n",
       "    </tr>\n",
       "    <tr>\n",
       "      <th>48</th>\n",
       "      <td>0.0939</td>\n",
       "      <td>0.1189</td>\n",
       "      <td>0.0250</td>\n",
       "      <td>0.1008</td>\n",
       "      <td>0.1122</td>\n",
       "      <td>0.0114</td>\n",
       "      <td>0.0721</td>\n",
       "      <td>0.0462</td>\n",
       "      <td>-0.0259</td>\n",
       "      <td>0.0903</td>\n",
       "      <td>...</td>\n",
       "      <td>0.0913</td>\n",
       "      <td>0.1169</td>\n",
       "      <td>0.0256</td>\n",
       "      <td>0.0689</td>\n",
       "      <td>0.1311</td>\n",
       "      <td>0.0622</td>\n",
       "      <td>0.1034</td>\n",
       "      <td>0.2017</td>\n",
       "      <td>0.0983</td>\n",
       "      <td>0.0905</td>\n",
       "    </tr>\n",
       "    <tr>\n",
       "      <th>49</th>\n",
       "      <td>0.0923</td>\n",
       "      <td>0.1294</td>\n",
       "      <td>0.0371</td>\n",
       "      <td>0.0913</td>\n",
       "      <td>0.0990</td>\n",
       "      <td>0.0077</td>\n",
       "      <td>0.0992</td>\n",
       "      <td>0.0897</td>\n",
       "      <td>-0.0095</td>\n",
       "      <td>0.1016</td>\n",
       "      <td>...</td>\n",
       "      <td>0.0882</td>\n",
       "      <td>0.0821</td>\n",
       "      <td>-0.0061</td>\n",
       "      <td>0.0576</td>\n",
       "      <td>0.0697</td>\n",
       "      <td>0.0121</td>\n",
       "      <td>0.0979</td>\n",
       "      <td>0.1917</td>\n",
       "      <td>0.0938</td>\n",
       "      <td>0.0931</td>\n",
       "    </tr>\n",
       "    <tr>\n",
       "      <th>50</th>\n",
       "      <td>0.0596</td>\n",
       "      <td>0.1310</td>\n",
       "      <td>0.0714</td>\n",
       "      <td>0.0992</td>\n",
       "      <td>0.1103</td>\n",
       "      <td>0.0111</td>\n",
       "      <td>0.0998</td>\n",
       "      <td>0.0813</td>\n",
       "      <td>-0.0185</td>\n",
       "      <td>0.1493</td>\n",
       "      <td>...</td>\n",
       "      <td>0.0969</td>\n",
       "      <td>0.0784</td>\n",
       "      <td>-0.0185</td>\n",
       "      <td>0.0790</td>\n",
       "      <td>0.1133</td>\n",
       "      <td>0.0343</td>\n",
       "      <td>0.0807</td>\n",
       "      <td>0.1993</td>\n",
       "      <td>0.1186</td>\n",
       "      <td>0.1018</td>\n",
       "    </tr>\n",
       "  </tbody>\n",
       "</table>\n",
       "<p>20400 rows × 31 columns</p>\n",
       "</div>"
      ],
      "text/plain": [
       "                          H.period  DD.period.t  UD.period.t     H.t  DD.t.i  \\\n",
       "subject sessionIndex rep                                                       \n",
       "s002    1            1      0.1491       0.3979       0.2488  0.1069  0.1674   \n",
       "                     2      0.1111       0.3451       0.2340  0.0694  0.1283   \n",
       "                     3      0.1328       0.2072       0.0744  0.0731  0.1291   \n",
       "                     4      0.1291       0.2515       0.1224  0.1059  0.2495   \n",
       "                     5      0.1249       0.2317       0.1068  0.0895  0.1676   \n",
       "...                            ...          ...          ...     ...     ...   \n",
       "s057    8            46     0.0884       0.0685      -0.0199  0.1095  0.1290   \n",
       "                     47     0.0655       0.0630      -0.0025  0.0910  0.1148   \n",
       "                     48     0.0939       0.1189       0.0250  0.1008  0.1122   \n",
       "                     49     0.0923       0.1294       0.0371  0.0913  0.0990   \n",
       "                     50     0.0596       0.1310       0.0714  0.0992  0.1103   \n",
       "\n",
       "                          UD.t.i     H.i  DD.i.e  UD.i.e     H.e  ...     H.a  \\\n",
       "subject sessionIndex rep                                          ...           \n",
       "s002    1            1    0.0605  0.1169  0.2212  0.1043  0.1417  ...  0.1349   \n",
       "                     2    0.0589  0.0908  0.1357  0.0449  0.0829  ...  0.1412   \n",
       "                     3    0.0560  0.0821  0.1542  0.0721  0.0808  ...  0.1621   \n",
       "                     4    0.1436  0.1040  0.2038  0.0998  0.0900  ...  0.1457   \n",
       "                     5    0.0781  0.0903  0.1589  0.0686  0.0805  ...  0.1312   \n",
       "...                          ...     ...     ...     ...     ...  ...     ...   \n",
       "s057    8            46   0.0195  0.0945  0.0757 -0.0188  0.1328  ...  0.1219   \n",
       "                     47   0.0238  0.0916  0.0636 -0.0280  0.1256  ...  0.1008   \n",
       "                     48   0.0114  0.0721  0.0462 -0.0259  0.0903  ...  0.0913   \n",
       "                     49   0.0077  0.0992  0.0897 -0.0095  0.1016  ...  0.0882   \n",
       "                     50   0.0111  0.0998  0.0813 -0.0185  0.1493  ...  0.0969   \n",
       "\n",
       "                          DD.a.n  UD.a.n     H.n  DD.n.l  UD.n.l     H.l  \\\n",
       "subject sessionIndex rep                                                   \n",
       "s002    1            1    0.1484  0.0135  0.0932  0.3515  0.2583  0.1338   \n",
       "                     2    0.2558  0.1146  0.1146  0.2642  0.1496  0.0839   \n",
       "                     3    0.2332  0.0711  0.1172  0.2705  0.1533  0.1085   \n",
       "                     4    0.1629  0.0172  0.0866  0.2341  0.1475  0.0845   \n",
       "                     5    0.1582  0.0270  0.0884  0.2517  0.1633  0.0903   \n",
       "...                          ...     ...     ...     ...     ...     ...   \n",
       "s057    8            46   0.1383  0.0164  0.0820  0.1329  0.0509  0.1005   \n",
       "                     47   0.0512 -0.0496  0.1037  0.0868 -0.0169  0.1445   \n",
       "                     48   0.1169  0.0256  0.0689  0.1311  0.0622  0.1034   \n",
       "                     49   0.0821 -0.0061  0.0576  0.0697  0.0121  0.0979   \n",
       "                     50   0.0784 -0.0185  0.0790  0.1133  0.0343  0.0807   \n",
       "\n",
       "                          DD.l.Return  UD.l.Return  H.Return  \n",
       "subject sessionIndex rep                                      \n",
       "s002    1            1         0.3509       0.2171    0.0742  \n",
       "                     2         0.2756       0.1917    0.0747  \n",
       "                     3         0.2847       0.1762    0.0945  \n",
       "                     4         0.3232       0.2387    0.0813  \n",
       "                     5         0.2517       0.1614    0.0818  \n",
       "...                               ...          ...       ...  \n",
       "s057    8            46        0.2054       0.1049    0.1047  \n",
       "                     47        0.2206       0.0761    0.1198  \n",
       "                     48        0.2017       0.0983    0.0905  \n",
       "                     49        0.1917       0.0938    0.0931  \n",
       "                     50        0.1993       0.1186    0.1018  \n",
       "\n",
       "[20400 rows x 31 columns]"
      ]
     },
     "execution_count": 2,
     "metadata": {},
     "output_type": "execute_result"
    }
   ],
   "source": [
    "import gudhi as gd\n",
    "import pandas as pd\n",
    "\n",
    "strong_password_data_frame = pd.read_csv('data/DSL-StrongPasswordData.csv',\n",
    "                                   # declare type of 'subject' column\n",
    "                                   dtype = {'subject' : 'string'},\n",
    "                                   index_col = ['subject', 'sessionIndex', 'rep'])\n",
    "strong_password_data_frame"
   ]
  },
  {
   "cell_type": "markdown",
   "metadata": {
    "pycharm": {
     "name": "#%% md\n"
    }
   },
   "source": [
    "We put a sample of the subjects and their password typing data in a `people`\n",
    "array (each index contains a DataFrame). The subjects `s006`, `s009`, `s014`,\n",
    "`s023`, and `s045` are missing; so we create and use the helper function\n",
    "`subjects_in_range` to generate the labels."
   ]
  },
  {
   "cell_type": "code",
   "execution_count": 3,
   "metadata": {
    "collapsed": false,
    "jupyter": {
     "outputs_hidden": false
    },
    "pycharm": {
     "name": "#%%\n"
    }
   },
   "outputs": [],
   "source": [
    "def subjects_in_range(start, stop):\n",
    "    \"\"\"Returns a list of labels for subjects in the subject column.\n",
    "\n",
    "    :param start: integer between 2 and 57, inclusive\n",
    "    :param stop: integer between 2 and 57, inclusive. Should be greater than or\n",
    "                 equal to start.\n",
    "    :returns: list of zero-padded subject labels beginning with s{start} to s{stop}\n",
    "    \"\"\"\n",
    "    return [f's{i:03}' for i in range(start, 1 + stop) if i not in [6, 9, 14, 23, 45]]\n",
    "\n",
    "people = [strong_password_data_frame.loc[subject] for subject in subjects_in_range(2,6)]"
   ]
  },
  {
   "cell_type": "markdown",
   "metadata": {
    "pycharm": {
     "name": "#%% md\n"
    }
   },
   "source": [
    "We probably don't want the index columns when creating our simplicial\n",
    "complexes, so we use `to_numpy` on our `DataFrame`s to strip them out."
   ]
  },
  {
   "cell_type": "code",
   "execution_count": 4,
   "metadata": {
    "collapsed": false,
    "jupyter": {
     "outputs_hidden": false
    },
    "pycharm": {
     "name": "#%%\n"
    }
   },
   "outputs": [
    {
     "data": {
      "text/plain": [
       "array([[0.1491, 0.3979, 0.2488, ..., 0.3509, 0.2171, 0.0742],\n",
       "       [0.1111, 0.3451, 0.234 , ..., 0.2756, 0.1917, 0.0747],\n",
       "       [0.1328, 0.2072, 0.0744, ..., 0.2847, 0.1762, 0.0945],\n",
       "       ...,\n",
       "       [0.1642, 0.175 , 0.0108, ..., 0.3048, 0.1997, 0.1259],\n",
       "       [0.1623, 0.2126, 0.0503, ..., 0.314 , 0.1601, 0.1154],\n",
       "       [0.1792, 0.1889, 0.0097, ..., 0.5261, 0.3862, 0.108 ]])"
      ]
     },
     "execution_count": 4,
     "metadata": {},
     "output_type": "execute_result"
    }
   ],
   "source": [
    "people[0].to_numpy()"
   ]
  },
  {
   "cell_type": "code",
   "execution_count": 5,
   "metadata": {
    "collapsed": false,
    "jupyter": {
     "outputs_hidden": false
    },
    "pycharm": {
     "is_executing": true,
     "name": "#%%\n"
    }
   },
   "outputs": [],
   "source": [
    "simplex_trees = []\n",
    "persistence_diagrams = []\n",
    "\n",
    "for person in people:\n",
    "    simplicial_complex = gd.RipsComplex(points = person.to_numpy(),\n",
    "                                        max_edge_length = 0.2)\n",
    "    simplex_tree = simplicial_complex.create_simplex_tree(max_dimension = 4)\n",
    "    simplex_trees.append(simplex_tree)\n",
    "    persistence_diagrams.append(simplex_tree.persistence())"
   ]
  },
  {
   "cell_type": "markdown",
   "metadata": {
    "jupyter": {
     "outputs_hidden": false
    },
    "pycharm": {
     "is_executing": true,
     "name": "#%% md\n"
    }
   },
   "source": [
    "Now we plot the persistence diagrams:"
   ]
  },
  {
   "cell_type": "code",
   "execution_count": 6,
   "metadata": {
    "collapsed": false,
    "jupyter": {
     "outputs_hidden": false
    },
    "pycharm": {
     "is_executing": true,
     "name": "#%%\n"
    }
   },
   "outputs": [
    {
     "data": {
      "image/png": "[encoded data removed]",
      "text/plain": [
       "<Figure size 432x288 with 1 Axes>"
      ]
     },
     "metadata": {
      "needs_background": "light"
     },
     "output_type": "display_data"
    },
    {
     "data": {
      "image/png": "[encoded data removed]",
      "text/plain": [
       "<Figure size 432x288 with 1 Axes>"
      ]
     },
     "metadata": {
      "needs_background": "light"
     },
     "output_type": "display_data"
    },
    {
     "data": {
      "image/png": "[encoded data removed]",
      "text/plain": [
       "<Figure size 432x288 with 1 Axes>"
      ]
     },
     "metadata": {
      "needs_background": "light"
     },
     "output_type": "display_data"
    },
    {
     "data": {
      "image/png": "[encoded data removed]",
      "text/plain": [
       "<Figure size 432x288 with 1 Axes>"
      ]
     },
     "metadata": {
      "needs_background": "light"
     },
     "output_type": "display_data"
    }
   ],
   "source": [
    "for diagram in persistence_diagrams:\n",
    "    gd.plot_persistence_diagram(diagram)"
   ]
  },
  {
   "cell_type": "markdown",
   "metadata": {
    "jupyter": {
     "outputs_hidden": false
    },
    "pycharm": {
     "is_executing": true,
     "name": "#%% md\n"
    }
   },
   "source": [
    "... and the barcode diagrams:"
   ]
  },
  {
   "cell_type": "code",
   "execution_count": 7,
   "metadata": {
    "collapsed": false,
    "jupyter": {
     "outputs_hidden": false
    },
    "pycharm": {
     "is_executing": true,
     "name": "#%%\n"
    }
   },
   "outputs": [
    {
     "data": {
      "image/png": "[encoded data removed]",
      "text/plain": [
       "<Figure size 432x288 with 1 Axes>"
      ]
     },
     "metadata": {
      "needs_background": "light"
     },
     "output_type": "display_data"
    },
    {
     "data": {
      "image/png": "[encoded data removed]",
      "text/plain": [
       "<Figure size 432x288 with 1 Axes>"
      ]
     },
     "metadata": {
      "needs_background": "light"
     },
     "output_type": "display_data"
    },
    {
     "data": {
      "image/png": "[encoded data removed]",
      "text/plain": [
       "<Figure size 432x288 with 1 Axes>"
      ]
     },
     "metadata": {
      "needs_background": "light"
     },
     "output_type": "display_data"
    },
    {
     "data": {
      "image/png": "[encoded data removed]",
      "text/plain": [
       "<Figure size 432x288 with 1 Axes>"
      ]
     },
     "metadata": {
      "needs_background": "light"
     },
     "output_type": "display_data"
    }
   ],
   "source": [
    "for diagram in persistence_diagrams:\n",
    "    gd.plot_persistence_barcode(diagram)"
   ]
  },
  {
   "cell_type": "markdown",
   "metadata": {
    "jupyter": {
     "outputs_hidden": false
    },
    "pycharm": {
     "name": "#%% md\n"
    }
   },
   "source": [
    "Now we compute some bottleneck distances:"
   ]
  },
  {
   "cell_type": "code",
   "execution_count": 8,
   "metadata": {
    "collapsed": false,
    "jupyter": {
     "outputs_hidden": false
    },
    "pycharm": {
     "name": "#%%\n"
    }
   },
   "outputs": [],
   "source": [
    "pers_intervals_array_in_dim = []\n",
    "\n",
    "for i in range(4):\n",
    "    pers_intervals_array_in_dim.append(\n",
    "        [simplex_tree.persistence_intervals_in_dimension(i)\n",
    "         for simplex_tree in simplex_trees])"
   ]
  },
  {
   "cell_type": "code",
   "execution_count": 9,
   "metadata": {
    "collapsed": false,
    "jupyter": {
     "outputs_hidden": false
    },
    "pycharm": {
     "name": "#%%\n"
    }
   },
   "outputs": [
    {
     "name": "stdout",
     "output_type": "stream",
     "text": [
      "i j\t bottleneck distance (0D)\n",
      "---\t -------------------\n",
      "0 0\t 2.139773181616766e-308\n",
      "0 1\t inf\n",
      "0 2\t inf\n",
      "0 3\t inf\n",
      "1 1\t 1.7983103373142034e-308\n",
      "1 2\t inf\n",
      "1 3\t inf\n",
      "2 2\t 6.835591634431975e-309\n",
      "2 3\t inf\n",
      "3 3\t 6.490005218848194e-309\n",
      "\n",
      "\n",
      "i j\t bottleneck distance (1D)\n",
      "---\t -------------------\n",
      "0 0\t 2.005107998183667e-308\n",
      "0 1\t inf\n",
      "0 2\t inf\n",
      "0 3\t inf\n",
      "1 1\t 2.0169991576077073e-308\n",
      "1 2\t inf\n",
      "1 3\t 0.010387122461315415\n",
      "2 2\t 1.624131700513677e-308\n",
      "2 3\t inf\n",
      "3 3\t 1.6434267740317243e-308\n",
      "\n",
      "\n",
      "i j\t bottleneck distance (2D)\n",
      "---\t -------------------\n",
      "0 0\t 1.3794267357217946e-308\n",
      "0 1\t inf\n",
      "0 2\t 0.007583584371637142\n",
      "0 3\t inf\n",
      "1 1\t 1.5652746802219295e-308\n",
      "1 2\t inf\n",
      "1 3\t inf\n",
      "2 2\t 1.522924225221412e-308\n",
      "2 3\t inf\n",
      "3 3\t 2.113406741610404e-308\n",
      "\n",
      "\n",
      "i j\t bottleneck distance (3D)\n",
      "---\t -------------------\n",
      "0 0\t 1.641423566317772e-308\n",
      "0 1\t 0.003782886280188774\n",
      "0 2\t 0.0006711645775555053\n",
      "0 3\t 0.0031640030333373037\n",
      "1 1\t 1.671892473329967e-308\n",
      "1 2\t 0.003782886280188774\n",
      "1 3\t 0.003782886280188774\n",
      "2 2\t 1.911631244059211e-308\n",
      "2 3\t 0.0031640030333373037\n",
      "3 3\t 1.245559762509187e-308\n",
      "\n",
      "\n"
     ]
    }
   ],
   "source": [
    "for dimension in range(len(pers_intervals_array_in_dim)):\n",
    "    print(f'i j\\t bottleneck distance ({dimension}D)')\n",
    "    print('---\\t -------------------')\n",
    "    for i in range(len(pers_intervals_array_in_dim)):\n",
    "        for j in range(i, len(pers_intervals_array_in_dim)):\n",
    "            a = pers_intervals_array_in_dim[dimension][i]\n",
    "            b = pers_intervals_array_in_dim[dimension][j]\n",
    "            print(f'{i} {j}\\t {gd.bottleneck_distance(a, b)}')\n",
    "    print('\\n')"
   ]
  },
  {
   "cell_type": "code",
   "execution_count": null,
   "metadata": {
    "collapsed": false,
    "jupyter": {
     "outputs_hidden": false
    },
    "pycharm": {
     "is_executing": true,
     "name": "#%%\n"
    }
   },
   "outputs": [],
   "source": [
    "\n"
   ]
  }
 ],
 "metadata": {
  "kernelspec": {
   "display_name": "Python 3",
   "language": "python",
   "name": "python3"
  },
  "language_info": {
   "codemirror_mode": {
    "name": "ipython",
    "version": 3
   },
   "file_extension": ".py",
   "mimetype": "text/x-python",
   "name": "python",
   "nbconvert_exporter": "python",
   "pygments_lexer": "ipython3",
   "version": "3.7.7"
  }
 },
 "nbformat": 4,
 "nbformat_minor": 4
}
