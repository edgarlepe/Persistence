{
 "cells": [
  {
   "cell_type": "markdown",
   "source": [
    "First we read our data from our csv file. We choose the `subject`,\n",
    "`sessionIndex`, and `rep` columns as our index columns.\n",
    "\n",
    "| subject | sessionIndex | rep | ... |\n",
    "|---------|:------------:|:---:|-----|\n",
    "| s002    | 1            | 1   | ... |\n",
    "| s002    | 1            | 2   | ... |\n",
    "| ...     | ...          | ... | ... |\n",
    "| s002    | 2            | 1   | ... |\n",
    "| ...     | ...          | ... | ... |\n",
    "| s003    | 1            | 1   | ... |"
   ],
   "metadata": {
    "collapsed": false,
    "pycharm": {
     "name": "#%% md\n"
    }
   }
  },
  {
   "cell_type": "code",
   "execution_count": 2,
   "metadata": {
    "pycharm": {
     "name": "#%%\n"
    }
   },
   "outputs": [],
   "source": [
    "import gudhi as gd\n",
    "import pandas as pd\n",
    "\n",
    "passwords_data_frame = pd.read_csv('data/DSL-StrongPasswordData.csv',\n",
    "                                   # declare type of first column\n",
    "                                   dtype = {'subject' : 'string'},\n",
    "                                   index_col = ['subject', 'sessionIndex', 'rep'])"
   ]
  },
  {
   "cell_type": "markdown",
   "source": [
    "We group the first four people (subjects column in csv file). Subjects `s006`,\n",
    "..., are missing, so we use why I used."
   ],
   "metadata": {
    "collapsed": false,
    "pycharm": {
     "name": "#%% md\n"
    }
   }
  },
  {
   "cell_type": "code",
   "execution_count": 5,
   "outputs": [],
   "source": [
    "people = [passwords_data_frame.loc[f's{n:03}'] for n in range(2,6)]"
   ],
   "metadata": {
    "collapsed": false,
    "pycharm": {
     "name": "#%%\n"
    }
   }
  },
  {
   "cell_type": "code",
   "execution_count": 8,
   "outputs": [],
   "source": [
    "persistence_diagrams = []\n",
    "\n",
    "for person in people:\n",
    "    simplicial_complex = gd.RipsComplex(points = person.values.tolist(),\n",
    "                                        max_edge_length = 0.2)\n",
    "    simplex_tree = simplicial_complex.create_simplex_tree(max_dimension = 4)\n",
    "    persistence_diagrams.append(simplex_tree.persistence())"
   ],
   "metadata": {
    "collapsed": false,
    "pycharm": {
     "name": "#%%\n"
    }
   }
  },
  {
   "cell_type": "code",
   "execution_count": null,
   "metadata": {
    "collapsed": false,
    "jupyter": {
     "outputs_hidden": false
    },
    "pycharm": {
     "is_executing": true,
     "name": "#%%\n"
    }
   },
   "outputs": [],
   "source": [
    "#THIS CODE NO LONGER WORKS PAST THIS POINT. See the first file that was posted to discord \n",
    "# for working code that flows through the whole notebook.\n",
    "#\n",
    "# BarCodes_0 = simplextree_0.persistence()\n",
    "# BarCodes_1 = simplextree_1.persistence()\n",
    "# print(len(BarCodes_0))\n",
    "# print(len(BarCodes_1))\n",
    "#"
   ]
  },
  {
   "cell_type": "code",
   "execution_count": null,
   "metadata": {
    "collapsed": false,
    "jupyter": {
     "outputs_hidden": false
    },
    "pycharm": {
     "is_executing": true,
     "name": "#%%\n"
    }
   },
   "outputs": [],
   "source": [
    "# for i in range(20):\n",
    "#     print(BarCodes_Rips0)\n",
    "#"
   ]
  },
  {
   "cell_type": "code",
   "execution_count": null,
   "metadata": {
    "collapsed": false,
    "jupyter": {
     "outputs_hidden": false
    },
    "pycharm": {
     "is_executing": true,
     "name": "#%%\n"
    }
   },
   "outputs": [],
   "source": [
    "# gd.plot_persistence_diagram(BarCodes_0);\n",
    "# gd.plot_persistence_diagram(BarCodes_1);\n",
    "#"
   ]
  },
  {
   "cell_type": "code",
   "execution_count": null,
   "metadata": {
    "collapsed": false,
    "jupyter": {
     "outputs_hidden": false
    },
    "pycharm": {
     "is_executing": true,
     "name": "#%%\n"
    }
   },
   "outputs": [],
   "source": [
    "# for i in range(0,3):\n",
    "#\n",
    "#     I0 = simplextree_0.persistence_intervals_in_dimension(i)\n",
    "#     I1 = simplextree_1.persistence_intervals_in_dimension(i)\n",
    "#\n",
    "#     print(len(I0))\n",
    "#     print(len(I1))\n",
    "#     print(gd.bottleneck_distance(I0,I1))\n",
    "#"
   ]
  },
  {
   "cell_type": "code",
   "execution_count": null,
   "metadata": {
    "collapsed": false,
    "jupyter": {
     "outputs_hidden": false
    },
    "pycharm": {
     "is_executing": true,
     "name": "#%%\n"
    }
   },
   "outputs": [],
   "source": [
    "# for i in range(57):\n",
    "#     for j in range(i):\n",
    "#         distance[i,j] = gd.bottleneck_distance(zerobarcodes[i], zerobarcodes[j])\n",
    "#         distance[i,j] = gd.bottleneck_distance(zerobarcodes[i], zerobarcodes[j])\n",
    "# distance=distance + distance.transpose()\n",
    "# print(distance)\n",
    "#"
   ]
  },
  {
   "cell_type": "code",
   "execution_count": null,
   "metadata": {
    "collapsed": false,
    "jupyter": {
     "outputs_hidden": false
    },
    "pycharm": {
     "is_executing": true,
     "name": "#%%\n"
    }
   },
   "outputs": [],
   "source": []
  }
 ],
 "metadata": {
  "kernelspec": {
   "name": "python3",
   "language": "python",
   "display_name": "Python 3"
  },
  "language_info": {
   "codemirror_mode": {
    "name": "ipython",
    "version": 3
   },
   "file_extension": ".py",
   "mimetype": "text/x-python",
   "name": "python",
   "nbconvert_exporter": "python",
   "pygments_lexer": "ipython3",
   "version": "3.7.7"
  }
 },
 "nbformat": 4,
 "nbformat_minor": 4
}