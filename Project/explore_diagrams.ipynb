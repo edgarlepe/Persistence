{
 "cells": [
  {
   "cell_type": "code",
   "execution_count": null,
   "metadata": {},
   "outputs": [],
   "source": [
    "import gudhi                 as gd\n",
    "import pandas                as pd\n",
    "import matplotlib.pyplot     as plt\n",
    "import numpy                 as np\n",
    "import gudhi.representations as gdrep\n",
    "from sklearn.preprocessing   import MinMaxScaler\n",
    "from sklearn.pipeline        import Pipeline\n",
    "from sklearn.svm             import SVC\n",
    "from sklearn.neighbors       import KNeighborsClassifier\n",
    "from sklearn.ensemble        import RandomForestClassifier\n",
    "\n",
    "plt.rcParams['font.size'] = 16\n",
    "plt.rcParams['font.family'] = 'serif'\n",
    "\n",
    "strong_password_data_frame = pd.read_csv('data/DSL-StrongPasswordData.csv',\n",
    "                                   # declare type of 'subject' column\n",
    "                                   dtype = {'subject' : 'string'},\n",
    "                                   index_col = ['subject', 'sessionIndex', 'rep'])"
   ]
  },
  {
   "cell_type": "code",
   "execution_count": null,
   "metadata": {},
   "outputs": [],
   "source": [
    "def subjects_in_range(start, stop):\n",
    "    \"\"\"Returns a list of labels for subjects in the subject column.\n",
    "\n",
    "    :param start: integer between 2 and 57, inclusive\n",
    "    :param stop: integer between 2 and 57, inclusive. Should be greater than or\n",
    "                 equal to start.\n",
    "    :returns: list of zero-padded subject labels beginning with s{start} to s{stop}\n",
    "    \"\"\"\n",
    "    return [f's{i:03}' for i in range(start, 1 + stop) if i not in [6, 9, 14, 23, 45]]\n",
    "\n",
    "people = [strong_password_data_frame.loc[subject] for subject in subjects_in_range(2,57)]"
   ]
  },
  {
   "cell_type": "code",
   "execution_count": null,
   "metadata": {},
   "outputs": [],
   "source": [
    "people[0].iloc[200:400]"
   ]
  },
  {
   "cell_type": "code",
   "execution_count": null,
   "metadata": {},
   "outputs": [],
   "source": [
    "train_diagrams_for_person = []"
   ]
  },
  {
   "cell_type": "code",
   "execution_count": null,
   "metadata": {},
   "outputs": [],
   "source": [
    "labels = []\n",
    "label_idx = 0\n",
    "\n",
    "for person, name in zip(people, subjects_in_range(2,57)):\n",
    "    diagrams = []\n",
    "    for idx in range(1,5):\n",
    "        labels.append(label_idx)\n",
    "        points = person.loc[idx] # get ith session\n",
    "        simplicial_complex = gd.RipsComplex(points = points.to_numpy(),\n",
    "                                           max_edge_length=2.0)\n",
    "        simplex_tree = simplicial_complex.create_simplex_tree(max_dimension = 3)\n",
    "        diagram = simplex_tree.persistence()\n",
    "        gd.plot_persistence_diagram(diagram)\n",
    "        plt.show()\n",
    "        diagrams.append(simplex_tree.persistence_intervals_in_dimension(1))\n",
    "        \n",
    "    train_diagrams_for_person.append(diagrams)\n",
    "    label_idx = label_idx + 1\n",
    "    print(f'Training diagrams for {name} complete.')"
   ]
  },
  {
   "cell_type": "code",
   "execution_count": null,
   "metadata": {},
   "outputs": [],
   "source": [
    "test_diagrams_for_person = []"
   ]
  },
  {
   "cell_type": "code",
   "execution_count": null,
   "metadata": {},
   "outputs": [],
   "source": [
    "for person, name in zip(people, subjects_in_range(2,57)):\n",
    "    diagrams = []\n",
    "    for idx in range(5,9):\n",
    "        points = person.loc[idx] # get ith session\n",
    "        simplicial_complex = gd.RipsComplex(points = points.to_numpy(),\n",
    "                                            max_edge_length = 2.0)\n",
    "        simplex_tree = simplicial_complex.create_simplex_tree(max_dimension = 3)\n",
    "        diagram = simplex_tree.persistence()\n",
    "        diagrams.append(simplex_tree.persistence_intervals_in_dimension(1))\n",
    "    \n",
    "    test_diagrams_for_person.append(diagrams)\n",
    "    print(f'Test diagrams for {name} complete.')"
   ]
  },
  {
   "cell_type": "code",
   "execution_count": null,
   "metadata": {},
   "outputs": [],
   "source": [
    "model = Pipeline([\n",
    "    (\"Separator\", gd.representations.DiagramSelector(use=True, limit=np.inf, point_type=\"finite\")),\n",
    "    (\"TDA\",       gd.representations.BottleneckDistance(0.001)),\n",
    "    (\"Estimator\", KNeighborsClassifier(n_neighbors=4, metric='precomputed'))\n",
    "])"
   ]
  },
  {
   "cell_type": "code",
   "execution_count": null,
   "metadata": {},
   "outputs": [],
   "source": [
    "training_data = np.array(train_diagrams_for_person).flatten()"
   ]
  },
  {
   "cell_type": "code",
   "execution_count": null,
   "metadata": {},
   "outputs": [],
   "source": [
    "model = model.fit(training_data, labels)"
   ]
  },
  {
   "cell_type": "code",
   "execution_count": null,
   "metadata": {},
   "outputs": [],
   "source": [
    "print(model.score(test_diagrams_for_person[0], [0,0,0,0]))"
   ]
  },
  {
   "cell_type": "code",
   "execution_count": null,
   "metadata": {},
   "outputs": [],
   "source": [
    "gd.bottleneck_distance(train_diagrams_for_person[0][1], train_diagrams_for_person[0][3])"
   ]
  },
  {
   "cell_type": "code",
   "execution_count": null,
   "metadata": {},
   "outputs": [],
   "source": [
    "list(range(2,4))"
   ]
  },
  {
   "cell_type": "code",
   "execution_count": null,
   "metadata": {},
   "outputs": [],
   "source": []
  }
 ],
 "metadata": {
  "kernelspec": {
   "display_name": "Python 3",
   "language": "python",
   "name": "python3"
  },
  "language_info": {
   "codemirror_mode": {
    "name": "ipython",
    "version": 3
   },
   "file_extension": ".py",
   "mimetype": "text/x-python",
   "name": "python",
   "nbconvert_exporter": "python",
   "pygments_lexer": "ipython3",
   "version": "3.8.2"
  }
 },
 "nbformat": 4,
 "nbformat_minor": 4
}
