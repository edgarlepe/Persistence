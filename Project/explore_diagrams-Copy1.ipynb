{
 "cells": [
  {
   "cell_type": "code",
   "execution_count": 1,
   "metadata": {},
   "outputs": [],
   "source": [
    "import gudhi                 as gd\n",
    "import pandas                as pd\n",
    "import matplotlib.pyplot     as plt\n",
    "import numpy                 as np\n",
    "import gudhi.representations as gdrep\n",
    "from sklearn.preprocessing   import MinMaxScaler\n",
    "from sklearn.pipeline        import Pipeline\n",
    "from sklearn.svm             import SVC\n",
    "from sklearn.neighbors       import KNeighborsClassifier\n",
    "from sklearn.ensemble        import RandomForestClassifier\n",
    "\n",
    "plt.rcParams['font.size'] = 16\n",
    "plt.rcParams['font.family'] = 'serif'\n",
    "\n",
    "strong_password_data_frame = pd.read_csv('data/DSL-StrongPasswordData.csv',\n",
    "                                   # declare type of 'subject' column\n",
    "                                   dtype = {'subject' : 'string'},\n",
    "                                   index_col = ['subject', 'sessionIndex', 'rep'])"
   ]
  },
  {
   "cell_type": "code",
   "execution_count": 2,
   "metadata": {},
   "outputs": [],
   "source": [
    "def subjects_in_range(start, stop):\n",
    "    \"\"\"Returns a list of labels for subjects in the subject column.\n",
    "\n",
    "    :param start: integer between 2 and 57, inclusive\n",
    "    :param stop: integer between 2 and 57, inclusive. Should be greater than or\n",
    "                 equal to start.\n",
    "    :returns: list of zero-padded subject labels beginning with s{start} to s{stop}\n",
    "    \"\"\"\n",
    "    return [f's{i:03}' for i in range(start, 1 + stop) if i not in [6, 9, 14, 23, 45]]\n",
    "\n",
    "people = [strong_password_data_frame.loc[subject] for subject in subjects_in_range(2,57)]"
   ]
  },
  {
   "cell_type": "code",
   "execution_count": 3,
   "metadata": {},
   "outputs": [],
   "source": [
    "dimension = 1\n",
    "last_person = 20\n",
    "max_edge_length = 3.0\n",
    "max_dimension = 3"
   ]
  },
  {
   "cell_type": "code",
   "execution_count": 4,
   "metadata": {},
   "outputs": [
    {
     "name": "stdout",
     "output_type": "stream",
     "text": [
      "Training diagrams for s002 complete.\n",
      "Training diagrams for s003 complete.\n",
      "Training diagrams for s004 complete.\n",
      "Training diagrams for s005 complete.\n",
      "Training diagrams for s007 complete.\n",
      "Training diagrams for s008 complete.\n",
      "Training diagrams for s010 complete.\n",
      "Training diagrams for s011 complete.\n",
      "Training diagrams for s012 complete.\n",
      "Training diagrams for s013 complete.\n",
      "Training diagrams for s015 complete.\n",
      "Training diagrams for s016 complete.\n",
      "Training diagrams for s017 complete.\n",
      "Training diagrams for s018 complete.\n",
      "Training diagrams for s019 complete.\n",
      "Training diagrams for s020 complete.\n"
     ]
    }
   ],
   "source": [
    "train_diagrams_for_person = []\n",
    "\n",
    "train_labels = []\n",
    "label_idx = 0\n",
    "\n",
    "for person, name in zip(people, subjects_in_range(2,last_person)):\n",
    "    diagrams = []\n",
    "    for n in range(3):\n",
    "        train_labels.append(label_idx)\n",
    "        points = person.loc[2*n + 1 : 2*(n+1)]\n",
    "        simplicial_complex = gd.RipsComplex(points = points.to_numpy(),\n",
    "                                            max_edge_length=max_edge_length)\n",
    "        simplex_tree = simplicial_complex.create_simplex_tree(max_dimension = max_dimension)\n",
    "        diagram = simplex_tree.persistence()\n",
    "        diagrams.append(simplex_tree.persistence_intervals_in_dimension(dimension))\n",
    "        \n",
    "    train_diagrams_for_person.append(diagrams)\n",
    "    label_idx = label_idx + 1\n",
    "    print(f'Training diagrams for {name} complete.')"
   ]
  },
  {
   "cell_type": "code",
   "execution_count": 5,
   "metadata": {},
   "outputs": [
    {
     "name": "stdout",
     "output_type": "stream",
     "text": [
      "Test diagrams for s002 complete.\n",
      "Test diagrams for s003 complete.\n",
      "Test diagrams for s004 complete.\n",
      "Test diagrams for s005 complete.\n",
      "Test diagrams for s007 complete.\n",
      "Test diagrams for s008 complete.\n",
      "Test diagrams for s010 complete.\n",
      "Test diagrams for s011 complete.\n",
      "Test diagrams for s012 complete.\n",
      "Test diagrams for s013 complete.\n",
      "Test diagrams for s015 complete.\n",
      "Test diagrams for s016 complete.\n",
      "Test diagrams for s017 complete.\n",
      "Test diagrams for s018 complete.\n",
      "Test diagrams for s019 complete.\n",
      "Test diagrams for s020 complete.\n"
     ]
    }
   ],
   "source": [
    "test_diagrams_for_person = []\n",
    "test_labels = []\n",
    "label_idx = 0\n",
    "\n",
    "for person, name in zip(people, subjects_in_range(2,last_person)):\n",
    "    diagrams = []\n",
    "    test_labels.append(label_idx)\n",
    "    points = person.loc[7:8] # get ith session\n",
    "    simplicial_complex = gd.RipsComplex(points = points.to_numpy(),\n",
    "                                        max_edge_length=max_edge_length)\n",
    "    simplex_tree = simplicial_complex.create_simplex_tree(max_dimension = max_dimension)\n",
    "    diagram = simplex_tree.persistence()\n",
    "    diagrams.append(simplex_tree.persistence_intervals_in_dimension(dimension))\n",
    "    \n",
    "    test_diagrams_for_person.append(diagrams)\n",
    "    label_idx = label_idx + 1\n",
    "    print(f'Test diagrams for {name} complete.')"
   ]
  },
  {
   "cell_type": "code",
   "execution_count": 6,
   "metadata": {},
   "outputs": [],
   "source": [
    "training_data = np.array(train_diagrams_for_person).flatten()\n",
    "test_data = np.array(test_diagrams_for_person).flatten()"
   ]
  },
  {
   "cell_type": "code",
   "execution_count": 7,
   "metadata": {},
   "outputs": [],
   "source": [
    "pipe = Pipeline([(\"Separator\", gd.representations.DiagramSelector(limit=np.inf, point_type=\"finite\")),\n",
    "                 (\"Scaler\",    gd.representations.DiagramScaler(scalers=[([0,1], MinMaxScaler())])),\n",
    "                 (\"TDA\",       gd.representations.PersistenceImage()),\n",
    "                 (\"Estimator\", SVC())])"
   ]
  },
  {
   "cell_type": "code",
   "execution_count": 44,
   "metadata": {},
   "outputs": [],
   "source": [
    "param =    [\n",
    "            {\"Scaler__use\":         [True],\n",
    "             \"TDA\":                 [gd.representations.Landscape()], \n",
    "             \"TDA__resolution\":     [100],\n",
    "             \"Estimator\":           [RandomForestClassifier()]},\n",
    "           \n",
    "            {\"Scaler__use\":         [False],\n",
    "             \"TDA\":                 [gd.representations.BottleneckDistance()], \n",
    "             \"TDA__epsilon\":        [0.001], \n",
    "             \"Estimator\":           [KNeighborsClassifier(n_neighbors=4, metric=\"precomputed\")]}\n",
    "           ]"
   ]
  },
  {
   "cell_type": "code",
   "execution_count": 45,
   "metadata": {},
   "outputs": [],
   "source": [
    "from sklearn.model_selection import GridSearchCV\n",
    "\n",
    "model = GridSearchCV(pipe, param, cv=3)"
   ]
  },
  {
   "cell_type": "code",
   "execution_count": 46,
   "metadata": {},
   "outputs": [],
   "source": [
    "model = model.fit(training_data, train_labels)"
   ]
  },
  {
   "cell_type": "code",
   "execution_count": 47,
   "metadata": {},
   "outputs": [
    {
     "data": {
      "text/plain": [
       "{'Estimator': RandomForestClassifier(bootstrap=True, ccp_alpha=0.0, class_weight=None,\n",
       "                        criterion='gini', max_depth=None, max_features='auto',\n",
       "                        max_leaf_nodes=None, max_samples=None,\n",
       "                        min_impurity_decrease=0.0, min_impurity_split=None,\n",
       "                        min_samples_leaf=1, min_samples_split=2,\n",
       "                        min_weight_fraction_leaf=0.0, n_estimators=100,\n",
       "                        n_jobs=None, oob_score=False, random_state=None,\n",
       "                        verbose=0, warm_start=False),\n",
       " 'Scaler__use': True,\n",
       " 'TDA': Landscape(num_landscapes=5, resolution=100, sample_range=[nan, nan]),\n",
       " 'TDA__resolution': 100}"
      ]
     },
     "execution_count": 47,
     "metadata": {},
     "output_type": "execute_result"
    }
   ],
   "source": [
    "model.best_params_"
   ]
  },
  {
   "cell_type": "code",
   "execution_count": 48,
   "metadata": {},
   "outputs": [
    {
     "data": {
      "text/plain": [
       "1.0"
      ]
     },
     "execution_count": 48,
     "metadata": {},
     "output_type": "execute_result"
    }
   ],
   "source": [
    "model.score(training_data, train_labels)"
   ]
  },
  {
   "cell_type": "code",
   "execution_count": 13,
   "metadata": {},
   "outputs": [
    {
     "data": {
      "text/plain": [
       "0.125"
      ]
     },
     "execution_count": 13,
     "metadata": {},
     "output_type": "execute_result"
    }
   ],
   "source": [
    "model.score(test_data, test_labels)"
   ]
  },
  {
   "cell_type": "code",
   "execution_count": null,
   "metadata": {},
   "outputs": [],
   "source": []
  }
 ],
 "metadata": {
  "kernelspec": {
   "display_name": "Python 3",
   "language": "python",
   "name": "python3"
  },
  "language_info": {
   "codemirror_mode": {
    "name": "ipython",
    "version": 3
   },
   "file_extension": ".py",
   "mimetype": "text/x-python",
   "name": "python",
   "nbconvert_exporter": "python",
   "pygments_lexer": "ipython3",
   "version": "3.8.2"
  }
 },
 "nbformat": 4,
 "nbformat_minor": 4
}
