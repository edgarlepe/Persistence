{
 "cells": [
  {
   "cell_type": "markdown",
   "metadata": {},
   "source": [
    "# Identifying Users Using Topological Data Analysis\n",
    "\n",
    "## 1. Introduction\n",
    "\n",
    "In this notebook we calculate persistence diagrams for all the test\n",
    "subjects in the study, and then try to identify each subject using the bottleneck\n",
    "distance of their respective persistence diagrams\n",
    "\n",
    "## 2. Approach\n",
    "\n",
    "We use the machine learning library [scikit-learn](https://scikit-learn.org/stable/)\n",
    "to train a model to identify test subjects based on the\n",
    "bottleneck distances of the persistance diagrams of their typing data. Next, we find an\n",
    "optimal set of hyperparameters for our model. Finally, we introduce new typing data samples\n",
    "and check how accurately it matches each new sample to its corresponding test subject."
   ]
  },
  {
   "cell_type": "markdown",
   "metadata": {},
   "source": [
    "### 2.1. Setup\n",
    "\n",
    "First we load the typing data into a [pandas](https://pandas.pydata.org) `DataFrame` to facilitate the processing of the data. As we can see, there a little over 20,000 rows in our `DataFrame`. Each test subject has 8 typing sessions consisting of 50 repititions."
   ]
  },
  {
   "cell_type": "code",
   "execution_count": 1,
   "metadata": {},
   "outputs": [
    {
     "data": {
      "text/html": [
       "<div>\n",
       "<style scoped>\n",
       "    .dataframe tbody tr th:only-of-type {\n",
       "        vertical-align: middle;\n",
       "    }\n",
       "\n",
       "    .dataframe tbody tr th {\n",
       "        vertical-align: top;\n",
       "    }\n",
       "\n",
       "    .dataframe thead th {\n",
       "        text-align: right;\n",
       "    }\n",
       "</style>\n",
       "<table border=\"1\" class=\"dataframe\">\n",
       "  <thead>\n",
       "    <tr style=\"text-align: right;\">\n",
       "      <th></th>\n",
       "      <th>H.period</th>\n",
       "      <th>DD.period.t</th>\n",
       "      <th>UD.period.t</th>\n",
       "      <th>H.t</th>\n",
       "      <th>DD.t.i</th>\n",
       "      <th>UD.t.i</th>\n",
       "      <th>H.i</th>\n",
       "      <th>DD.i.e</th>\n",
       "      <th>UD.i.e</th>\n",
       "      <th>H.e</th>\n",
       "      <th>...</th>\n",
       "      <th>H.a</th>\n",
       "      <th>DD.a.n</th>\n",
       "      <th>UD.a.n</th>\n",
       "      <th>H.n</th>\n",
       "      <th>DD.n.l</th>\n",
       "      <th>UD.n.l</th>\n",
       "      <th>H.l</th>\n",
       "      <th>DD.l.Return</th>\n",
       "      <th>UD.l.Return</th>\n",
       "      <th>H.Return</th>\n",
       "    </tr>\n",
       "  </thead>\n",
       "  <tbody>\n",
       "    <tr>\n",
       "      <th>count</th>\n",
       "      <td>20400.000000</td>\n",
       "      <td>20400.000000</td>\n",
       "      <td>20400.000000</td>\n",
       "      <td>20400.000000</td>\n",
       "      <td>20400.000000</td>\n",
       "      <td>20400.000000</td>\n",
       "      <td>20400.000000</td>\n",
       "      <td>20400.000000</td>\n",
       "      <td>20400.000000</td>\n",
       "      <td>20400.000000</td>\n",
       "      <td>...</td>\n",
       "      <td>20400.000000</td>\n",
       "      <td>20400.000000</td>\n",
       "      <td>20400.000000</td>\n",
       "      <td>20400.000000</td>\n",
       "      <td>20400.000000</td>\n",
       "      <td>20400.000000</td>\n",
       "      <td>20400.000000</td>\n",
       "      <td>20400.000000</td>\n",
       "      <td>20400.000000</td>\n",
       "      <td>20400.000000</td>\n",
       "    </tr>\n",
       "    <tr>\n",
       "      <th>mean</th>\n",
       "      <td>0.093379</td>\n",
       "      <td>0.264148</td>\n",
       "      <td>0.170769</td>\n",
       "      <td>0.085727</td>\n",
       "      <td>0.169085</td>\n",
       "      <td>0.083358</td>\n",
       "      <td>0.081565</td>\n",
       "      <td>0.159372</td>\n",
       "      <td>0.077806</td>\n",
       "      <td>0.089138</td>\n",
       "      <td>...</td>\n",
       "      <td>0.106259</td>\n",
       "      <td>0.150670</td>\n",
       "      <td>0.044411</td>\n",
       "      <td>0.089899</td>\n",
       "      <td>0.202630</td>\n",
       "      <td>0.112731</td>\n",
       "      <td>0.095589</td>\n",
       "      <td>0.321847</td>\n",
       "      <td>0.226259</td>\n",
       "      <td>0.088306</td>\n",
       "    </tr>\n",
       "    <tr>\n",
       "      <th>std</th>\n",
       "      <td>0.029626</td>\n",
       "      <td>0.220534</td>\n",
       "      <td>0.226836</td>\n",
       "      <td>0.027424</td>\n",
       "      <td>0.123546</td>\n",
       "      <td>0.125755</td>\n",
       "      <td>0.026887</td>\n",
       "      <td>0.226928</td>\n",
       "      <td>0.228512</td>\n",
       "      <td>0.030635</td>\n",
       "      <td>...</td>\n",
       "      <td>0.038828</td>\n",
       "      <td>0.107422</td>\n",
       "      <td>0.105197</td>\n",
       "      <td>0.030738</td>\n",
       "      <td>0.150191</td>\n",
       "      <td>0.159571</td>\n",
       "      <td>0.028348</td>\n",
       "      <td>0.225389</td>\n",
       "      <td>0.230759</td>\n",
       "      <td>0.027452</td>\n",
       "    </tr>\n",
       "    <tr>\n",
       "      <th>min</th>\n",
       "      <td>0.001400</td>\n",
       "      <td>0.018700</td>\n",
       "      <td>-0.235800</td>\n",
       "      <td>0.009300</td>\n",
       "      <td>0.001100</td>\n",
       "      <td>-0.162100</td>\n",
       "      <td>0.003200</td>\n",
       "      <td>0.001400</td>\n",
       "      <td>-0.160000</td>\n",
       "      <td>0.002100</td>\n",
       "      <td>...</td>\n",
       "      <td>0.004000</td>\n",
       "      <td>0.001100</td>\n",
       "      <td>-0.235500</td>\n",
       "      <td>0.003700</td>\n",
       "      <td>0.001300</td>\n",
       "      <td>-0.175800</td>\n",
       "      <td>0.003700</td>\n",
       "      <td>0.008300</td>\n",
       "      <td>-0.124500</td>\n",
       "      <td>0.002900</td>\n",
       "    </tr>\n",
       "    <tr>\n",
       "      <th>25%</th>\n",
       "      <td>0.074400</td>\n",
       "      <td>0.146900</td>\n",
       "      <td>0.049800</td>\n",
       "      <td>0.066000</td>\n",
       "      <td>0.113600</td>\n",
       "      <td>0.027200</td>\n",
       "      <td>0.062000</td>\n",
       "      <td>0.089300</td>\n",
       "      <td>0.007400</td>\n",
       "      <td>0.068600</td>\n",
       "      <td>...</td>\n",
       "      <td>0.082100</td>\n",
       "      <td>0.096100</td>\n",
       "      <td>-0.009000</td>\n",
       "      <td>0.067300</td>\n",
       "      <td>0.127600</td>\n",
       "      <td>0.023500</td>\n",
       "      <td>0.077400</td>\n",
       "      <td>0.210000</td>\n",
       "      <td>0.114100</td>\n",
       "      <td>0.069900</td>\n",
       "    </tr>\n",
       "    <tr>\n",
       "      <th>50%</th>\n",
       "      <td>0.089500</td>\n",
       "      <td>0.205950</td>\n",
       "      <td>0.108700</td>\n",
       "      <td>0.081000</td>\n",
       "      <td>0.140400</td>\n",
       "      <td>0.057800</td>\n",
       "      <td>0.077100</td>\n",
       "      <td>0.120900</td>\n",
       "      <td>0.041200</td>\n",
       "      <td>0.083400</td>\n",
       "      <td>...</td>\n",
       "      <td>0.101900</td>\n",
       "      <td>0.125000</td>\n",
       "      <td>0.022700</td>\n",
       "      <td>0.085300</td>\n",
       "      <td>0.172500</td>\n",
       "      <td>0.095500</td>\n",
       "      <td>0.093700</td>\n",
       "      <td>0.263000</td>\n",
       "      <td>0.160300</td>\n",
       "      <td>0.085500</td>\n",
       "    </tr>\n",
       "    <tr>\n",
       "      <th>75%</th>\n",
       "      <td>0.107900</td>\n",
       "      <td>0.306450</td>\n",
       "      <td>0.212400</td>\n",
       "      <td>0.099800</td>\n",
       "      <td>0.183900</td>\n",
       "      <td>0.096400</td>\n",
       "      <td>0.096900</td>\n",
       "      <td>0.173100</td>\n",
       "      <td>0.093400</td>\n",
       "      <td>0.102700</td>\n",
       "      <td>...</td>\n",
       "      <td>0.122300</td>\n",
       "      <td>0.174600</td>\n",
       "      <td>0.068900</td>\n",
       "      <td>0.107900</td>\n",
       "      <td>0.228800</td>\n",
       "      <td>0.145700</td>\n",
       "      <td>0.111100</td>\n",
       "      <td>0.350200</td>\n",
       "      <td>0.255100</td>\n",
       "      <td>0.103700</td>\n",
       "    </tr>\n",
       "    <tr>\n",
       "      <th>max</th>\n",
       "      <td>0.376100</td>\n",
       "      <td>12.506100</td>\n",
       "      <td>12.451700</td>\n",
       "      <td>0.241100</td>\n",
       "      <td>4.919700</td>\n",
       "      <td>4.799900</td>\n",
       "      <td>0.331200</td>\n",
       "      <td>25.987300</td>\n",
       "      <td>25.915800</td>\n",
       "      <td>0.325400</td>\n",
       "      <td>...</td>\n",
       "      <td>2.035300</td>\n",
       "      <td>3.327800</td>\n",
       "      <td>2.524200</td>\n",
       "      <td>0.357700</td>\n",
       "      <td>4.025200</td>\n",
       "      <td>3.978200</td>\n",
       "      <td>0.340700</td>\n",
       "      <td>5.883600</td>\n",
       "      <td>5.836400</td>\n",
       "      <td>0.265100</td>\n",
       "    </tr>\n",
       "  </tbody>\n",
       "</table>\n",
       "<p>8 rows × 31 columns</p>\n",
       "</div>"
      ],
      "text/plain": [
       "           H.period   DD.period.t   UD.period.t           H.t        DD.t.i  \\\n",
       "count  20400.000000  20400.000000  20400.000000  20400.000000  20400.000000   \n",
       "mean       0.093379      0.264148      0.170769      0.085727      0.169085   \n",
       "std        0.029626      0.220534      0.226836      0.027424      0.123546   \n",
       "min        0.001400      0.018700     -0.235800      0.009300      0.001100   \n",
       "25%        0.074400      0.146900      0.049800      0.066000      0.113600   \n",
       "50%        0.089500      0.205950      0.108700      0.081000      0.140400   \n",
       "75%        0.107900      0.306450      0.212400      0.099800      0.183900   \n",
       "max        0.376100     12.506100     12.451700      0.241100      4.919700   \n",
       "\n",
       "             UD.t.i           H.i        DD.i.e        UD.i.e           H.e  \\\n",
       "count  20400.000000  20400.000000  20400.000000  20400.000000  20400.000000   \n",
       "mean       0.083358      0.081565      0.159372      0.077806      0.089138   \n",
       "std        0.125755      0.026887      0.226928      0.228512      0.030635   \n",
       "min       -0.162100      0.003200      0.001400     -0.160000      0.002100   \n",
       "25%        0.027200      0.062000      0.089300      0.007400      0.068600   \n",
       "50%        0.057800      0.077100      0.120900      0.041200      0.083400   \n",
       "75%        0.096400      0.096900      0.173100      0.093400      0.102700   \n",
       "max        4.799900      0.331200     25.987300     25.915800      0.325400   \n",
       "\n",
       "       ...           H.a        DD.a.n        UD.a.n           H.n  \\\n",
       "count  ...  20400.000000  20400.000000  20400.000000  20400.000000   \n",
       "mean   ...      0.106259      0.150670      0.044411      0.089899   \n",
       "std    ...      0.038828      0.107422      0.105197      0.030738   \n",
       "min    ...      0.004000      0.001100     -0.235500      0.003700   \n",
       "25%    ...      0.082100      0.096100     -0.009000      0.067300   \n",
       "50%    ...      0.101900      0.125000      0.022700      0.085300   \n",
       "75%    ...      0.122300      0.174600      0.068900      0.107900   \n",
       "max    ...      2.035300      3.327800      2.524200      0.357700   \n",
       "\n",
       "             DD.n.l        UD.n.l           H.l   DD.l.Return   UD.l.Return  \\\n",
       "count  20400.000000  20400.000000  20400.000000  20400.000000  20400.000000   \n",
       "mean       0.202630      0.112731      0.095589      0.321847      0.226259   \n",
       "std        0.150191      0.159571      0.028348      0.225389      0.230759   \n",
       "min        0.001300     -0.175800      0.003700      0.008300     -0.124500   \n",
       "25%        0.127600      0.023500      0.077400      0.210000      0.114100   \n",
       "50%        0.172500      0.095500      0.093700      0.263000      0.160300   \n",
       "75%        0.228800      0.145700      0.111100      0.350200      0.255100   \n",
       "max        4.025200      3.978200      0.340700      5.883600      5.836400   \n",
       "\n",
       "           H.Return  \n",
       "count  20400.000000  \n",
       "mean       0.088306  \n",
       "std        0.027452  \n",
       "min        0.002900  \n",
       "25%        0.069900  \n",
       "50%        0.085500  \n",
       "75%        0.103700  \n",
       "max        0.265100  \n",
       "\n",
       "[8 rows x 31 columns]"
      ]
     },
     "execution_count": 1,
     "metadata": {},
     "output_type": "execute_result"
    }
   ],
   "source": [
    "import pandas as pd\n",
    "\n",
    "typing_data = pd.read_csv('data/DSL-StrongPasswordData.csv',\n",
    "                          # declare type of 'subject' column\n",
    "                          dtype = {'subject' : 'string'},\n",
    "                          index_col = ['subject', 'sessionIndex', 'rep'])\n",
    "typing_data.describe()"
   ]
  },
  {
   "cell_type": "markdown",
   "metadata": {},
   "source": [
    "### 2.2 Prerocessing the Data\n",
    "\n",
    "Now we need to process the data so that we can generate a persistence diagram for each typing session. To do this, we group the typing data by test subject and store it in a list. We also create list that contains the corresponding labels. In order to get better results, we shuffle the data before splitting each test subject's typing data and labels into the 8 sessions."
   ]
  },
  {
   "cell_type": "code",
   "execution_count": 2,
   "metadata": {},
   "outputs": [],
   "source": [
    "from modules.helpers import subject_labels_in_range, TypingDataSplit"
   ]
  },
  {
   "cell_type": "code",
   "execution_count": 3,
   "metadata": {},
   "outputs": [
    {
     "name": "stdout",
     "output_type": "stream",
     "text": [
      "Split and shuffled data has length 408, which is equal to\n",
      "51 (number of test subjects) times 8 (number of typing sessions per subject).\n"
     ]
    }
   ],
   "source": [
    "# Generate labels and group typing data by subject\n",
    "labels = subject_labels_in_range(2, 57)\n",
    "typing_data_grouped_by_subject = [ typing_data.loc[label].values for label in labels ]\n",
    "\n",
    "# Shuffle data and split into 8 sessions\n",
    "splitter = TypingDataSplit(shuffle=True, random_state=1, n_splits=8)\n",
    "split_data, split_labels = splitter.split(typing_data_grouped_by_subject, labels)\n",
    "\n",
    "output_string = f\"Split and shuffled data has length {len(split_data)}, which is equal to\\n\" + \\\n",
    "                \"51 (number of test subjects) times 8 (number of typing sessions per subject).\"\n",
    "print(output_string)"
   ]
  },
  {
   "cell_type": "markdown",
   "metadata": {},
   "source": [
    "### 2.3 Calculating Persistence Diagrams for Training and Testing\n",
    "\n",
    "Now, we use our preprocessed data to generate a persistence diagram for each typing session. We then extract\n",
    "the persistence intervals in the specified dimension (`dimension` variable below) and use scikit-learn's\n",
    "`train_test_split` to generate our training and testing data. We set `random_state` equal to an integer for\n",
    "reproducibility."
   ]
  },
  {
   "cell_type": "code",
   "execution_count": 4,
   "metadata": {},
   "outputs": [],
   "source": [
    "import gudhi                 as gd\n",
    "from sklearn.model_selection import train_test_split\n",
    "from modules.helpers         import persistence_in_dimension"
   ]
  },
  {
   "cell_type": "code",
   "execution_count": 5,
   "metadata": {},
   "outputs": [],
   "source": [
    "diagrams = [] # list to store persistence diagrams\n",
    "max_e    = 3  # maximum edge length for Vietoris-Rips complex\n",
    "max_dim  = 3  # maximum dimension for simplex tree\n",
    "\n",
    "for points in split_data:\n",
    "    simplex_tree = gd.RipsComplex(points=points, max_edge_length=max_e).create_simplex_tree(max_dimension = max_dim)\n",
    "    diagrams.append(simplex_tree.persistence())"
   ]
  },
  {
   "cell_type": "code",
   "execution_count": 6,
   "metadata": {},
   "outputs": [],
   "source": [
    "dimension = 0 # dimension of persistence intervals\n",
    "\n",
    "# Extract persistence intervals from persistence diagrams\n",
    "X = list(map(lambda x: persistence_in_dimension(x,dimension), diagrams))\n",
    "\n",
    "X_train, X_test, y_train, y_test = train_test_split(X, split_labels,\n",
    "                                                    stratify=split_labels,\n",
    "                                                    train_size=0.75,\n",
    "                                                    random_state=0)"
   ]
  },
  {
   "cell_type": "markdown",
   "metadata": {},
   "source": [
    "Below we have the first four diagrams for subject `s002`. As we can see, they vary quite a bit,\n",
    "but notice that the first and fourth diagrams are quite similar."
   ]
  },
  {
   "cell_type": "code",
   "execution_count": 7,
   "metadata": {},
   "outputs": [
    {
     "name": "stderr",
     "output_type": "stream",
     "text": [
      "usetex mode requires TeX.\n"
     ]
    },
    {
     "data": {
      "image/png": "[encoded data removed]",
      "text/plain": [
       "<Figure size 432x288 with 1 Axes>"
      ]
     },
     "metadata": {
      "needs_background": "light"
     },
     "output_type": "display_data"
    },
    {
     "data": {
      "image/png": "[encoded data removed]",
      "text/plain": [
       "<Figure size 432x288 with 1 Axes>"
      ]
     },
     "metadata": {
      "needs_background": "light"
     },
     "output_type": "display_data"
    },
    {
     "data": {
      "image/png": "[encoded data removed]",
      "text/plain": [
       "<Figure size 432x288 with 1 Axes>"
      ]
     },
     "metadata": {
      "needs_background": "light"
     },
     "output_type": "display_data"
    },
    {
     "data": {
      "image/png": "[encoded data removed]",
      "text/plain": [
       "<Figure size 432x288 with 1 Axes>"
      ]
     },
     "metadata": {
      "needs_background": "light"
     },
     "output_type": "display_data"
    }
   ],
   "source": [
    "for diagram in diagrams[:4]:\n",
    "    gd.plot_persistence_diagram(diagram)"
   ]
  },
  {
   "cell_type": "markdown",
   "metadata": {},
   "source": [
    "### 2.4 Training and Optimizing the Model\n",
    "\n",
    "Next, we optimize our hyperparameters using a grid search algorithm and train our model using the Bottleneck distance metric.\n",
    "First, we only keep the finite from our persistence intervals using the `DiagramSelector`. Then we vary the `epsilon` (which\n",
    "here represents the absolute error tolerated on the distance), `n_neighbors` (which represents the number of neighbors our\n",
    "K Nearest Neighbors Classifier uses), `weights` (which represent the how the nearest neighbors are weighted), and `p` (which\n",
    "represents the power for the Minkowski metric, 1 for Manhattan distance and 2 for Euclidean distance)."
   ]
  },
  {
   "cell_type": "code",
   "execution_count": 8,
   "metadata": {},
   "outputs": [],
   "source": [
    "import gudhi.representations\n",
    "import numpy                 as np\n",
    "from sklearn.pipeline        import Pipeline\n",
    "from sklearn.preprocessing   import MinMaxScaler\n",
    "from sklearn.neighbors       import KNeighborsClassifier\n",
    "from sklearn.model_selection import GridSearchCV"
   ]
  },
  {
   "cell_type": "code",
   "execution_count": 9,
   "metadata": {},
   "outputs": [],
   "source": [
    "pipe = Pipeline([(\"Separator\", gd.representations.DiagramSelector(use=True, limit=np.inf, point_type=\"finite\")),\n",
    "                 (\"Scaler\",    gd.representations.DiagramScaler(scalers=[([0,1], MinMaxScaler())])),   \n",
    "                 (\"TDA\",       gd.representations.BottleneckDistance()),\n",
    "                 (\"Estimator\", KNeighborsClassifier(metric=\"precomputed\"))])\n",
    "\n",
    "params = [\n",
    "    {\n",
    "        \"Scaler__use\":            [False],\n",
    "        \"TDA__epsilon\":           [1e-3, 0.01, 0, 0.1],\n",
    "        \"Estimator__n_neighbors\": [3],\n",
    "        \"Estimator__weights\":     ['uniform', 'distance'],\n",
    "        \"Estimator__p\":           [1, 2]\n",
    "    }\n",
    "]"
   ]
  },
  {
   "cell_type": "code",
   "execution_count": 10,
   "metadata": {},
   "outputs": [
    {
     "data": {
      "text/plain": [
       "GridSearchCV(cv=3,\n",
       "             estimator=Pipeline(steps=[('Separator', DiagramSelector(use=True)),\n",
       "                                       ('Scaler',\n",
       "                                        DiagramScaler(scalers=[([0, 1],\n",
       "                                                                MinMaxScaler())])),\n",
       "                                       ('TDA', BottleneckDistance()),\n",
       "                                       ('Estimator',\n",
       "                                        KNeighborsClassifier(metric='precomputed'))]),\n",
       "             n_jobs=-1,\n",
       "             param_grid=[{'Estimator__n_neighbors': [3], 'Estimator__p': [1, 2],\n",
       "                          'Estimator__weights': ['uniform', 'distance'],\n",
       "                          'Scaler__use': [False],\n",
       "                          'TDA__epsilon': [0.001, 0.01, 0, 0.1]}],\n",
       "             scoring='accuracy')"
      ]
     },
     "execution_count": 10,
     "metadata": {},
     "output_type": "execute_result"
    }
   ],
   "source": [
    "model = GridSearchCV(pipe, params, n_jobs=-1, scoring='accuracy', cv=3)\n",
    "model.fit(X_train, y_train)"
   ]
  },
  {
   "cell_type": "markdown",
   "metadata": {},
   "source": [
    "Below is the optimized hyperparameter set found by our grid search algorithm."
   ]
  },
  {
   "cell_type": "code",
   "execution_count": 11,
   "metadata": {},
   "outputs": [
    {
     "data": {
      "text/plain": [
       "{'Estimator__n_neighbors': 3,\n",
       " 'Estimator__p': 1,\n",
       " 'Estimator__weights': 'distance',\n",
       " 'Scaler__use': False,\n",
       " 'TDA__epsilon': 0.001}"
      ]
     },
     "execution_count": 11,
     "metadata": {},
     "output_type": "execute_result"
    }
   ],
   "source": [
    "model.best_params_"
   ]
  },
  {
   "cell_type": "markdown",
   "metadata": {},
   "source": [
    "## 3. Results and Analysis\n",
    "\n",
    "Using the Bottleneck distance metric, our model correctly\n",
    "matched typing data it had already seen to its corresponding test subject with 100% accuracy.\n",
    "However, when we introduced new typing data, its accuracy dropped down to\n",
    "about 10%."
   ]
  },
  {
   "cell_type": "code",
   "execution_count": 12,
   "metadata": {},
   "outputs": [
    {
     "name": "stdout",
     "output_type": "stream",
     "text": [
      "Bottleneck distance trainig accuracy\t= 100.0%\n",
      "Bottleneck distance prediction accuracy\t= 9.803921568627452%\n"
     ]
    }
   ],
   "source": [
    "print(f\"Bottleneck distance trainig accuracy\\t= {model.score(X_train, y_train) * 100}%\")\n",
    "print(f\"Bottleneck distance prediction accuracy\\t= {model.score(X_test, y_test) * 100}%\")"
   ]
  },
  {
   "cell_type": "markdown",
   "metadata": {},
   "source": [
    "## 4. Discussion and Future Work\n",
    "\n",
    "For Topological Data Analysis, our dataset was\n",
    "was on the small side, with only 50 data points per persistence diagram. It is likely\n",
    "that we would have achieved better results with more data points per diagram (400 and up).\n",
    "Also, since our machine learning experience is very limited, we may have been able to\n",
    "achieve better results by changing other paramaters.\n",
    "\n",
    "There are other tools in Topological Data Analysis besides the Bottleneck\n",
    "distance that could lead to better results. For example, below we use the Persistence\n",
    "Landscape, Persistence Image, Slicced Wasserstein Kernel, and Persistence Weighted Gaussian Kernel.\n",
    "With minimal tuning, we achieved close to 30% accuracy using the Persistence Image instead of\n",
    "the Bottleneck distance."
   ]
  },
  {
   "cell_type": "code",
   "execution_count": 13,
   "metadata": {},
   "outputs": [],
   "source": [
    "from sklearn.svm             import SVC\n",
    "from sklearn.ensemble        import RandomForestClassifier"
   ]
  },
  {
   "cell_type": "code",
   "execution_count": 14,
   "metadata": {},
   "outputs": [],
   "source": [
    "params = [\n",
    "    {\n",
    "        \"Scaler__use\":                  [False],\n",
    "        \"TDA__epsilon\":                 [1e-3, 0.01, 0, 0.1],\n",
    "        \"Estimator__n_neighbors\":       [3],\n",
    "        \"Estimator__weights\":           ['uniform', 'distance'],\n",
    "        \"Estimator__p\":                 [1, 2]\n",
    "    },\n",
    "    {\n",
    "        \"Scaler__use\":                  [True],\n",
    "        \"TDA\":                          [gd.representations.PersistenceImage()],\n",
    "        \"TDA__resolution\":              [[5, 5], [10, 10], [20, 20], [50, 50]],\n",
    "        \"TDA__bandwidth\":               [0.01, 0.1, 1, 10],\n",
    "        \"Estimator\":                    [SVC()]\n",
    "    },\n",
    "    {\n",
    "        \"Scaler__use\":                  [True],\n",
    "        \"TDA\":                          [gd.representations.Landscape()], \n",
    "        \"TDA__num_landscapes\":          [3,4,5,10],\n",
    "        \"TDA__resolution\":              [50, 100, 150],\n",
    "        \"Estimator\":                    [RandomForestClassifier()],\n",
    "        \"Estimator__n_estimators\":      [50, 100, 150],\n",
    "        \"Estimator__criterion\":         ['gini', 'entropy'],\n",
    "        \"Estimator__min_samples_split\": [0.001, 0.1, 2, 4],\n",
    "        \"Estimator__random_state\":      [0]\n",
    "    },\n",
    "    {\n",
    "        \"Scaler__use\":                  [False],\n",
    "        \"TDA\":                          [gd.representations.SlicedWassersteinKernel()], \n",
    "        \"TDA__bandwidth\":               [0.1, 1.0, 10],\n",
    "        \"TDA__num_directions\":          [10, 20],\n",
    "        \"Estimator\":                    [SVC(kernel=\"precomputed\", gamma=\"auto\")]\n",
    "    },\n",
    "    {\n",
    "        \"Scaler__use\":                  [False],\n",
    "        \"TDA\":                          [gd.representations.PersistenceWeightedGaussianKernel()], \n",
    "        \"TDA__bandwidth\":               [1, 0.1, 0.01],\n",
    "        \"TDA__weight\":                  [lambda x: np.arctan(x[1]-x[0])], \n",
    "        \"Estimator\":                    [SVC(kernel=\"precomputed\", gamma=\"auto\")]\n",
    "    }\n",
    "]"
   ]
  },
  {
   "cell_type": "code",
   "execution_count": 15,
   "metadata": {},
   "outputs": [
    {
     "data": {
      "text/plain": [
       "GridSearchCV(cv=3,\n",
       "             estimator=Pipeline(steps=[('Separator', DiagramSelector(use=True)),\n",
       "                                       ('Scaler',\n",
       "                                        DiagramScaler(scalers=[([0, 1],\n",
       "                                                                MinMaxScaler())])),\n",
       "                                       ('TDA', BottleneckDistance()),\n",
       "                                       ('Estimator',\n",
       "                                        KNeighborsClassifier(metric='precomputed'))]),\n",
       "             n_jobs=-1,\n",
       "             param_grid=[{'Estimator__n_neighbors': [3], 'Estimator__p': [1, 2],\n",
       "                          'Estimator__weights': ['uniform', 'distance'],\n",
       "                          'S...\n",
       "                                            kernel='precomputed')],\n",
       "                          'Scaler__use': [False],\n",
       "                          'TDA': [SlicedWassersteinKernel()],\n",
       "                          'TDA__bandwidth': [0.1, 1.0, 10],\n",
       "                          'TDA__num_directions': [10, 20]},\n",
       "                         {'Estimator': [SVC(gamma='auto',\n",
       "                                            kernel='precomputed')],\n",
       "                          'Scaler__use': [False],\n",
       "                          'TDA': [PersistenceWeightedGaussianKernel()],\n",
       "                          'TDA__bandwidth': [1, 0.1, 0.01],\n",
       "                          'TDA__weight': [<function <lambda> at 0x7f1a8161ce50>]}],\n",
       "             scoring='accuracy')"
      ]
     },
     "execution_count": 15,
     "metadata": {},
     "output_type": "execute_result"
    }
   ],
   "source": [
    "model = GridSearchCV(pipe, params, n_jobs=-1, scoring='accuracy', cv=3)\n",
    "model.fit(X_train, y_train)"
   ]
  },
  {
   "cell_type": "code",
   "execution_count": 16,
   "metadata": {},
   "outputs": [
    {
     "data": {
      "text/plain": [
       "{'Estimator': SVC(),\n",
       " 'Scaler__use': True,\n",
       " 'TDA': PersistenceImage(bandwidth=0.01, resolution=[50, 50]),\n",
       " 'TDA__bandwidth': 0.01,\n",
       " 'TDA__resolution': [50, 50]}"
      ]
     },
     "execution_count": 16,
     "metadata": {},
     "output_type": "execute_result"
    }
   ],
   "source": [
    "model.best_params_"
   ]
  },
  {
   "cell_type": "code",
   "execution_count": 18,
   "metadata": {},
   "outputs": [
    {
     "name": "stdout",
     "output_type": "stream",
     "text": [
      "Prediction accuracy = 28.431372549019606%\n"
     ]
    }
   ],
   "source": [
    "print(f\"Prediction accuracy = {model.score(X_test, y_test) * 100}%\")"
   ]
  },
  {
   "cell_type": "code",
   "execution_count": null,
   "metadata": {},
   "outputs": [],
   "source": []
  }
 ],
 "metadata": {
  "kernelspec": {
   "display_name": "Python 3",
   "language": "python",
   "name": "python3"
  },
  "language_info": {
   "codemirror_mode": {
    "name": "ipython",
    "version": 3
   },
   "file_extension": ".py",
   "mimetype": "text/x-python",
   "name": "python",
   "nbconvert_exporter": "python",
   "pygments_lexer": "ipython3",
   "version": "3.8.8"
  }
 },
 "nbformat": 4,
 "nbformat_minor": 4
}
